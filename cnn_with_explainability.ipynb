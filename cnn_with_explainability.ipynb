{
 "cells": [
  {
   "cell_type": "code",
   "execution_count": 4,
   "metadata": {},
   "outputs": [],
   "source": [
    "from keras.models import Sequential\n",
    "from keras.layers import Dense, SpatialDropout1D, Embedding, LSTM, Conv1D, GlobalMaxPooling1D\n",
    "from keras.layers import Dropout\n",
    "import matplotlib.pyplot as plt\n",
    "from keras.preprocessing.text import Tokenizer\n",
    "from keras_preprocessing.sequence import pad_sequences\n",
    "import pandas as pd\n",
    "import keras\n",
    "import tensorflow as tf\n",
    "import numpy as np\n",
    "import cv2"
   ]
  },
  {
   "cell_type": "code",
   "execution_count": 8,
   "metadata": {},
   "outputs": [],
   "source": [
    "MAX_FEATURES = 30000\n",
    "NUM_FILTERS = 256 \n",
    "NUM_WORDS = 4\n",
    "EMBED_DIM = 512\n",
    "\n",
    "dataset = pd.read_csv('processed_train_data.csv')\n",
    "\n",
    "tokenizer = Tokenizer(num_words=MAX_FEATURES, split=' ')\n",
    "tokenizer.fit_on_texts(dataset['text'].values)\n",
    "X = tokenizer.texts_to_sequences(dataset['text'].values)\n",
    "\n",
    "X = pad_sequences(X, maxlen=374)\n",
    "Y = tf.keras.utils.to_categorical(dataset['target'].values.tolist(), 3)\n",
    "\n",
    "X_Test = pd.read_csv('processed_test_data.csv')['text'].values.tolist()\n",
    "X_Test = tokenizer.texts_to_sequences(X_Test)"
   ]
  },
  {
   "cell_type": "code",
   "execution_count": 5,
   "metadata": {},
   "outputs": [],
   "source": [
    "def cnn():\n",
    "    model = Sequential()\n",
    "    model.add(Embedding(MAX_FEATURES, EMBED_DIM, input_length=374))\n",
    "    model.add(SpatialDropout1D(0.5))\n",
    "    model.add(Conv1D(filters=64, kernel_size=NUM_WORDS, activation=\"relu\"))\n",
    "    model.add(GlobalMaxPooling1D())\n",
    "    model.add(Dense(3, activation=\"softmax\"))\n",
    "    model.compile(optimizer=\"adam\", loss=\"categorical_crossentropy\",metrics=[\"acc\"])\n",
    "    return model\n",
    "\n",
    "model = cnn()"
   ]
  },
  {
   "cell_type": "code",
   "execution_count": null,
   "metadata": {},
   "outputs": [],
   "source": [
    "history = model.fit(X, Y, batch_size=1024,\n",
    "                    epochs=1, validation_split=0.2)\n",
    "model.save('CNN_512b_2e')"
   ]
  },
  {
   "cell_type": "code",
   "execution_count": null,
   "metadata": {},
   "outputs": [],
   "source": [
    "predictions = model.predict(X_Test)\n",
    "preds = np.argmax(predictions, 1)\n",
    "csv = 'id,target\\n'\n",
    "for id, pred in enumerate(preds):\n",
    "  csv += '{},{}\\n'.format(id, pred)\n",
    "with open('submission.csv', 'w') as f:\n",
    "  f.writelines(csv)"
   ]
  },
  {
   "attachments": {},
   "cell_type": "markdown",
   "metadata": {},
   "source": [
    "# Explainability of the model\n",
    "\n",
    "## How is the decision explained?\n",
    "Gradient-based methods are used to explain the decision of the model. The model is trained to predict the class of the image. The gradient of the loss function with respect to the input image is calculated. The gradient is then used to explain the decision of the model. The gradient is a vector of the same size as the input image. The gradient is used to calculate the saliency map. The saliency map is a heatmap of the same size as the input. The saliency map is used to explain the decision of the model."
   ]
  },
  {
   "cell_type": "code",
   "execution_count": 29,
   "metadata": {},
   "outputs": [],
   "source": [
    "def get_grad_cam(model, text):\n",
    "    text = tokenizer.texts_to_sequences([text])\n",
    "    text = pad_sequences(text, maxlen=374)\n",
    "    text = tf.convert_to_tensor(text)\n",
    "    with tf.GradientTape() as tape:\n",
    "        last_conv_layer = model.get_layer('conv1d_1')\n",
    "        iterate = tf.keras.models.Model([model.inputs], [model.output, last_conv_layer.output])\n",
    "        model_out, last_conv_layer = iterate(text)\n",
    "        class_out = model_out[:, np.argmax(model_out[0])]\n",
    "        grads = tape.gradient(class_out, last_conv_layer)\n",
    "        pooled_grads = tf.reduce_mean(grads, axis=(0, 1, 2))\n",
    "        heatmap = tf.reduce_mean(tf.multiply(pooled_grads, last_conv_layer), axis=-1)\n",
    "        heatmap = np.maximum(heatmap, 0) / np.max(heatmap)\n",
    "        return heatmap\n",
    "\n",
    "def plot_grad_cam(heatmap, text):\n",
    "    heatmap = np.uint8(255 * heatmap)\n",
    "    superimposed_img = (heatmap * 0.4)\n",
    "    plt.imshow(superimposed_img.reshape(7, 53))\n",
    "    print(text)\n",
    "\n",
    "model = keras.models.load_model('CNN_2')"
   ]
  },
  {
   "cell_type": "code",
   "execution_count": 66,
   "metadata": {},
   "outputs": [
    {
     "name": "stdout",
     "output_type": "stream",
     "text": [
      "i had a great time at the party last night. i disliked the food, but the music was great. also, the people were very friendly.\n"
     ]
    },
    {
     "data": {
      "image/png": "[encoded data removed]",
      "text/plain": [
       "<Figure size 640x480 with 1 Axes>"
      ]
     },
     "metadata": {},
     "output_type": "display_data"
    }
   ],
   "source": [
    "text = 'i had a great time at the party last night. i disliked the food, but the music was great. also, the people were very friendly.'\n",
    "heatmap = get_grad_cam(model, text)\n",
    "plot_grad_cam(heatmap, text)"
   ]
  },
  {
   "cell_type": "code",
   "execution_count": 63,
   "metadata": {},
   "outputs": [
    {
     "name": "stdout",
     "output_type": "stream",
     "text": [
      "horrible, terrible, bad\n"
     ]
    },
    {
     "data": {
      "image/png": "[encoded data removed]",
      "text/plain": [
       "<Figure size 640x480 with 1 Axes>"
      ]
     },
     "metadata": {},
     "output_type": "display_data"
    }
   ],
   "source": [
    "neg_text = 'horrible, terrible, bad'\n",
    "heatmap = get_grad_cam(model, neg_text)\n",
    "plot_grad_cam(heatmap, neg_text)"
   ]
  },
  {
   "cell_type": "code",
   "execution_count": 65,
   "metadata": {},
   "outputs": [
    {
     "name": "stdout",
     "output_type": "stream",
     "text": [
      "amazing, okay, fabulous, fantastic\n"
     ]
    },
    {
     "data": {
      "image/png": "[encoded data removed]",
      "text/plain": [
       "<Figure size 640x480 with 1 Axes>"
      ]
     },
     "metadata": {},
     "output_type": "display_data"
    }
   ],
   "source": [
    "heatmap = get_grad_cam(model, 'amazing, okay, fabulous, fantastic')\n",
    "plot_grad_cam(heatmap, 'amazing, okay, fabulous, fantastic')"
   ]
  }
 ],
 "metadata": {
  "kernelspec": {
   "display_name": "Python 3",
   "language": "python",
   "name": "python3"
  },
  "language_info": {
   "codemirror_mode": {
    "name": "ipython",
    "version": 3
   },
   "file_extension": ".py",
   "mimetype": "text/x-python",
   "name": "python",
   "nbconvert_exporter": "python",
   "pygments_lexer": "ipython3",
   "version": "3.9.6"
  },
  "orig_nbformat": 4,
  "vscode": {
   "interpreter": {
    "hash": "31f2aee4e71d21fbe5cf8b01ff0e069b9275f58929596ceb00d14d90e3e16cd6"
   }
  }
 },
 "nbformat": 4,
 "nbformat_minor": 2
}
