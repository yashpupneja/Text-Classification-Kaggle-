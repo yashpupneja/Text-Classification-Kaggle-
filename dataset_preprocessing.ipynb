{
 "cells": [
  {
   "attachments": {},
   "cell_type": "markdown",
   "metadata": {},
   "source": [
    "# Dataset preprocessing\n",
    "\n",
    "1. Standardize the dataset by transforming the data to be all lower case\n",
    "2. Replace all @<username> with @user, and #<hashtag> with #hashtag\n",
    "3. Replace all http://<url> with http\n",
    "4. Replace all special charecters except punctuations, @mentions, and #hashtags\n",
    "5. Trim white spaces\n",
    "6. Remove multiple occurrences of same character at the end of a word"
   ]
  },
  {
   "cell_type": "code",
   "execution_count": 9,
   "metadata": {},
   "outputs": [
    {
     "name": "stdout",
     "output_type": "stream",
     "text": [
      "                                                 text  target\n",
      "id                                                           \n",
      "0                    anyway im getting of for a while       2\n",
      "1   my red apache isn t feelin too well this morni...       0\n",
      "2   @user you should be its great friday will be g...       2\n",
      "3   its 11 30pm and i dont wanna sleep so i debate...       2\n",
      "4              why does twitter eat my dm s not happy       0\n"
     ]
    }
   ],
   "source": [
    "import pandas as pd\n",
    "import warnings\n",
    "warnings.filterwarnings('ignore')\n",
    "\n",
    "def preprocess(df):\n",
    "    df['text'] = df['text'].str.lower()\n",
    "    df['text'] = df['text'].str.replace(r'@\\w+', '@user')\n",
    "    df['text'] = df['text'].str.replace(r'http\\S+', 'http')\n",
    "    df['text'] = df['text'].str.replace(r'#(\\w+)', '#hashtag')\n",
    "    df['text'] = df['text'].str.replace(r'[^a-zA-Z0-9@#]', ' ')\n",
    "    df['text'] = df['text'].str.replace(r'\\s+', ' ')\n",
    "    df['text'] = df['text'].str.strip()\n",
    "    df['text'] = df['text'].str.replace(r'([a-z])\\1{2,}', r'\\1')\n",
    "    return df\n",
    "\n",
    "df = pd.read_csv('train_data.csv', index_col=0)\n",
    "df = preprocess(df)\n",
    "\n",
    "df['target'] = pd.read_csv('train_results.csv', index_col=0)['target']\n",
    "df['target'] = df['target'].map({'positive' : 2, 'neutral' : 1, 'negative' : 0})\n",
    "\n",
    "print(df.head())\n",
    "\n",
    "df.to_csv('processed_train_data.csv')\n"
   ]
  },
  {
   "cell_type": "code",
   "execution_count": 11,
   "metadata": {},
   "outputs": [],
   "source": [
    "df = pd.read_csv('test_data.csv', index_col=0)\n",
    "df = preprocess(df)\n",
    "df.to_csv('processed_test_data.csv')"
   ]
  }
 ],
 "metadata": {
  "kernelspec": {
   "display_name": "Python 3",
   "language": "python",
   "name": "python3"
  },
  "language_info": {
   "codemirror_mode": {
    "name": "ipython",
    "version": 3
   },
   "file_extension": ".py",
   "mimetype": "text/x-python",
   "name": "python",
   "nbconvert_exporter": "python",
   "pygments_lexer": "ipython3",
   "version": "3.9.6"
  },
  "orig_nbformat": 4,
  "vscode": {
   "interpreter": {
    "hash": "31f2aee4e71d21fbe5cf8b01ff0e069b9275f58929596ceb00d14d90e3e16cd6"
   }
  }
 },
 "nbformat": 4,
 "nbformat_minor": 2
}
