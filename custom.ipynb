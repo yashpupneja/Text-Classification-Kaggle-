{
 "cells": [
  {
   "cell_type": "code",
   "execution_count": 5,
   "metadata": {},
   "outputs": [],
   "source": [
    "from tensorflow import keras as tf\n",
    "import tensorflow as T\n",
    "import pandas as pd\n",
    "import numpy as np\n",
    "from keras.models import Sequential\n",
    "from keras.layers import Dense, Embedding, Bidirectional, LSTM\n",
    "from keras.layers import Conv1D, MaxPooling1D, GlobalMaxPooling1D"
   ]
  },
  {
   "cell_type": "code",
   "execution_count": 2,
   "metadata": {},
   "outputs": [],
   "source": [
    "dataset = pd.read_csv('processed_train_data.csv')\n",
    "\n",
    "X = dataset['text'].values.tolist()\n",
    "Y = tf.utils.to_categorical(dataset['target'].values.tolist(), 3)\n",
    "\n",
    "X_Test = pd.read_csv('processed_test_data.csv')['text'].values.tolist()"
   ]
  },
  {
   "cell_type": "code",
   "execution_count": 3,
   "metadata": {},
   "outputs": [
    {
     "name": "stdout",
     "output_type": "stream",
     "text": [
      "Metal device set to: Apple M1\n",
      "\n",
      "systemMemory: 8.00 GB\n",
      "maxCacheSize: 2.67 GB\n",
      "\n"
     ]
    },
    {
     "name": "stderr",
     "output_type": "stream",
     "text": [
      "2022-12-18 10:54:25.529661: I tensorflow/core/common_runtime/pluggable_device/pluggable_device_factory.cc:306] Could not identify NUMA node of platform GPU ID 0, defaulting to 0. Your kernel may not have been built with NUMA support.\n",
      "2022-12-18 10:54:25.531361: I tensorflow/core/common_runtime/pluggable_device/pluggable_device_factory.cc:272] Created TensorFlow device (/job:localhost/replica:0/task:0/device:GPU:0 with 0 MB memory) -> physical PluggableDevice (device: 0, name: METAL, pci bus id: <undefined>)\n",
      "2022-12-18 10:54:28.314900: W tensorflow/core/platform/profile_utils/cpu_utils.cc:128] Failed to get CPU frequency: 0 Hz\n",
      "2022-12-18 10:54:28.434548: I tensorflow/core/grappler/optimizers/custom_graph_optimizer_registry.cc:114] Plugin optimizer for device_type GPU is enabled.\n"
     ]
    }
   ],
   "source": [
    "VOCAB_SIZE = 25000\n",
    "MAX_LEN = 374\n",
    "EMBEDDING_DIM = 128\n",
    "NUM_CLASSES = 3\n",
    "VOCAB_SIZE = 25000\n",
    "\n",
    "encoder = tf.layers.TextVectorization(\n",
    "    max_tokens=VOCAB_SIZE)\n",
    "encoder.adapt(X)"
   ]
  },
  {
   "cell_type": "code",
   "execution_count": 6,
   "metadata": {},
   "outputs": [
    {
     "name": "stdout",
     "output_type": "stream",
     "text": [
      "WARNING:tensorflow:Layer lstm will not use cuDNN kernels since it doesn't meet the criteria. It will use a generic GPU kernel as fallback when running on GPU.\n",
      "WARNING:tensorflow:Layer lstm will not use cuDNN kernels since it doesn't meet the criteria. It will use a generic GPU kernel as fallback when running on GPU.\n",
      "WARNING:tensorflow:Layer lstm will not use cuDNN kernels since it doesn't meet the criteria. It will use a generic GPU kernel as fallback when running on GPU.\n"
     ]
    },
    {
     "name": "stderr",
     "output_type": "stream",
     "text": [
      "/Users/praneets/Library/Python/3.9/lib/python/site-packages/keras/initializers/initializers_v2.py:120: UserWarning: The initializer HeNormal is unseeded and being called multiple times, which will return identical values  each time (even if the initializer is unseeded). Please update your code to provide a seed to the initializer, or avoid using the same initalizer instance more than once.\n",
      "  warnings.warn(\n"
     ]
    },
    {
     "name": "stdout",
     "output_type": "stream",
     "text": [
      "WARNING:tensorflow:Layer lstm_1 will not use cuDNN kernels since it doesn't meet the criteria. It will use a generic GPU kernel as fallback when running on GPU.\n",
      "WARNING:tensorflow:Layer lstm_1 will not use cuDNN kernels since it doesn't meet the criteria. It will use a generic GPU kernel as fallback when running on GPU.\n",
      "WARNING:tensorflow:Layer lstm_1 will not use cuDNN kernels since it doesn't meet the criteria. It will use a generic GPU kernel as fallback when running on GPU.\n"
     ]
    }
   ],
   "source": [
    "initializer = tf.initializers.HeNormal()\n",
    "\n",
    "def get_model():\n",
    "    model = Sequential()\n",
    "    model.add(tf.layers.Input((1,), dtype=T.string))\n",
    "    model.add(encoder)\n",
    "    model.add(Embedding(input_dim=VOCAB_SIZE, output_dim=EMBEDDING_DIM, input_length=MAX_LEN))\n",
    "    model.add(Conv1D(filters=256, kernel_size=5, activation='relu', kernel_initializer=initializer))\n",
    "    model.add(Conv1D(filters=128, kernel_size=5, activation='relu', kernel_initializer=initializer))\n",
    "    model.add(Bidirectional(LSTM(units=40, dropout=0.2, return_sequences=True, kernel_initializer=initializer, recurrent_dropout=0.2)))\n",
    "    model.add(Bidirectional(LSTM(units=40, dropout=0.2, kernel_initializer=initializer, recurrent_dropout=0.2)))\n",
    "    model.add(Dense(40, activation='relu', kernel_initializer=initializer))\n",
    "    model.add(Dense(NUM_CLASSES, kernel_initializer=initializer, activation='softmax'))\n",
    "\n",
    "    model.compile(loss='kl_divergence', optimizer='adam', metrics=['accuracy'])\n",
    "    return model\n",
    "\n",
    "model = get_model()"
   ]
  },
  {
   "cell_type": "code",
   "execution_count": null,
   "metadata": {},
   "outputs": [
    {
      "output_type": "stream",
      "name": "stdout",
      "text": [
        "915/915 [==============================] - 556s 607ms/step - loss: 0.3339 - accuracy: 0.8537 - val_loss: 0.3867 - val_accuracy: 0.8293\n"
      ]
    }
  ],
   "source": [
    "history = model.fit(np.array(X), Y, epochs=1, batch_size=1024, validation_split=0.2)\n",
    "model.save('Cnv1D_BiDirectional-LSTM_kl_1')"
   ]
  },
  {
   "cell_type": "code",
   "execution_count": null,
   "metadata": {},
   "outputs": [
    {
      "output_type": "stream",
      "name": "stdout",
      "text": [
        "17506/17506 [==============================] - 519s 30ms/step\n"
      ]
    }
  ],
   "source": [
    "predictions = model.predict(np.array(X_Test))\n",
    "preds = np.argmax(predictions, 1)\n",
    "csv = 'id,target\\n'\n",
    "for id, pred in enumerate(preds):\n",
    "  csv += '{},{}\\n'.format(id, pred)\n",
    "with open('submission.csv', 'w') as f:\n",
    "  f.writelines(csv)"
   ]
  }
 ],
 "metadata": {
  "kernelspec": {
   "display_name": "Python 3",
   "language": "python",
   "name": "python3"
  },
  "language_info": {
   "codemirror_mode": {
    "name": "ipython",
    "version": 3
   },
   "file_extension": ".py",
   "mimetype": "text/x-python",
   "name": "python",
   "nbconvert_exporter": "python",
   "pygments_lexer": "ipython3",
   "version": "3.9.6"
  },
  "orig_nbformat": 4,
  "vscode": {
   "interpreter": {
    "hash": "31f2aee4e71d21fbe5cf8b01ff0e069b9275f58929596ceb00d14d90e3e16cd6"
   }
  }
 },
 "nbformat": 4,
 "nbformat_minor": 2
}
