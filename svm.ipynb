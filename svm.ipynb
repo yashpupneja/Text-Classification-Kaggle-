{
 "cells": [
  {
   "cell_type": "code",
   "execution_count": null,
   "metadata": {},
   "outputs": [],
   "source": [
    "import numpy as np\n",
    "from sklearn.svm import SVC\n",
    "from sklearn.pipeline import Pipeline\n",
    "import pandas as pd\n",
    "from sklearn.feature_extraction.text import TfidfVectorizer\n",
    "# String kernel from sklearn\n",
    "from sklearn.metrics.pairwise import polynomial_kernel\n",
    "from sklearn.model_selection import train_test_split\n",
    "\n",
    "df = pd.read_csv('processed_train_data.csv')\n",
    "tweets, labels = df['text'], df['target']\n",
    "\n",
    "# Split the dataset into a training set and a test set\n",
    "X_train, X_test, y_train, y_test = train_test_split(tweets, labels, test_size=0.2, random_state=42)\n",
    "vectorizer = TfidfVectorizer()\n",
    "X_train = vectorizer.fit_transform(X_train)\n",
    "X_test = vectorizer.transform(X_test)\n",
    "\n",
    "# Define a pipeline that combines a TfidfVectorizer and an SVM with a string kernel\n",
    "svm = SVC(kernel='precomputed')\n",
    "\n",
    "# Fit the pipeline on the training data\n",
    "svm.fit(X_train.toarray(), y_train)\n",
    "\n",
    "# Use the pipeline to predict the labels for the test data\n",
    "y_pred = svm.predict(X_test.toarray())\n",
    "\n",
    "# Calculate the accuracy of the predictions\n",
    "accuracy = np.mean(y_pred == y_test)\n",
    "print(f'Test accuracy: {accuracy:.2f}')\n",
    "\n",
    "test = pd.read_csv('processed_test_data.csv')['text'].map(str)\n",
    "test_vector = vectorizer.transform(test).toarray()\n",
    "\n",
    "predictions = svm.predict(test_vector)\n",
    "\n",
    "csv = 'id,target\\n'\n",
    "for id, pred in enumerate(predictions):\n",
    "  csv += '{},{}\\n'.format(id, pred)\n",
    "with open('submission.csv', 'w') as f:\n",
    "  f.writelines(csv)"
   ]
  }
 ],
 "metadata": {
  "kernelspec": {
   "display_name": "Python 3",
   "language": "python",
   "name": "python3"
  },
  "language_info": {
   "codemirror_mode": {
    "name": "ipython",
    "version": 3
   },
   "file_extension": ".py",
   "mimetype": "text/x-python",
   "name": "python",
   "nbconvert_exporter": "python",
   "pygments_lexer": "ipython3",
   "version": "3.9.6"
  },
  "orig_nbformat": 4,
  "vscode": {
   "interpreter": {
    "hash": "31f2aee4e71d21fbe5cf8b01ff0e069b9275f58929596ceb00d14d90e3e16cd6"
   }
  }
 },
 "nbformat": 4,
 "nbformat_minor": 2
}
